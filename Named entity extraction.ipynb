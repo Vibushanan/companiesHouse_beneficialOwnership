{
 "cells": [
  {
   "cell_type": "markdown",
   "metadata": {},
   "source": [
    "# Named Entity Extraction\n",
    "*Named entity extraction* refers to the identification and extraction of real names from a text. This can be used to automatically parse text documents to find the names of people of companies.\n",
    "\n",
    "This notebook provides a simple example of how to get strated with named entity extraction, using it to pull out the names of companies (as well as a lot of junk!) from the UK MPs' register of interests.\n",
    "\n",
    "Note that simple named entity exraction only takes you so far... but it's maybe a start...\n",
    "\n",
    "The python `nltk` package contains a wide range of natural langauge and text processing utilities that can be used to develop named entity extraction tools."
   ]
  },
  {
   "cell_type": "code",
   "execution_count": 29,
   "metadata": {
    "collapsed": false
   },
   "outputs": [
    {
     "name": "stdout",
     "output_type": "stream",
     "text": [
      "[nltk_data] Downloading package punkt to /home/jovyan/nltk_data...\n",
      "[nltk_data]   Package punkt is already up-to-date!\n",
      "[nltk_data] Downloading package words to /home/jovyan/nltk_data...\n",
      "[nltk_data]   Package words is already up-to-date!\n",
      "[nltk_data] Downloading package averaged_perceptron_tagger to\n",
      "[nltk_data]     /home/jovyan/nltk_data...\n",
      "[nltk_data]   Package averaged_perceptron_tagger is already up-to-\n",
      "[nltk_data]       date!\n",
      "[nltk_data] Downloading package maxent_ne_chunker to\n",
      "[nltk_data]     /home/jovyan/nltk_data...\n",
      "[nltk_data]   Unzipping chunkers/maxent_ne_chunker.zip.\n"
     ]
    },
    {
     "data": {
      "text/plain": [
       "True"
      ]
     },
     "execution_count": 29,
     "metadata": {},
     "output_type": "execute_result"
    }
   ],
   "source": [
    "#!pip3 install nltk\n",
    "import nltk \n",
    "nltk.download('punkt')\n",
    "nltk.download('words')\n",
    "nltk.download('averaged_perceptron_tagger')\n",
    "nltk.download('maxent_ne_chunker')"
   ]
  },
  {
   "cell_type": "code",
   "execution_count": 37,
   "metadata": {
    "collapsed": false
   },
   "outputs": [
    {
     "data": {
      "text/plain": [
       "{'John Smith', 'Mad Up Name Ltd', 'Person Names'}"
      ]
     },
     "execution_count": 37,
     "metadata": {},
     "output_type": "execute_result"
    }
   ],
   "source": [
    "#via https://gist.github.com/onyxfish/322906\n",
    "import nltk \n",
    "#with open('sample.txt', 'r') as f:\n",
    "#    sample = f.read()\n",
    "\n",
    "sample=\"a John Smith of Mad Up Name Ltd and some Person Names as well\"\n",
    "    \n",
    "def extract_entity_names(t):\n",
    "    entity_names = []\n",
    "\n",
    "    if hasattr(t, 'label') and t.label:\n",
    "        if t.label() == 'NE':\n",
    "            entity_names.append(' '.join([child[0] for child in t]))\n",
    "        else:\n",
    "            for child in t:\n",
    "                entity_names.extend(extract_entity_names(child))\n",
    "\n",
    "    return entity_names\n",
    "\n",
    "def extract_entity_names_txt(sample):\n",
    "    sentences = nltk.sent_tokenize(sample)\n",
    "    tokenized_sentences = [nltk.word_tokenize(sentence) for sentence in sentences]\n",
    "    tagged_sentences = [nltk.pos_tag(sentence) for sentence in tokenized_sentences]\n",
    "    chunked_sentences = nltk.ne_chunk_sents(tagged_sentences, binary=True)\n",
    "    entity_names = []\n",
    "    for tree in chunked_sentences:\n",
    "        entity_names.extend(extract_entity_names(tree))\n",
    "    return set(entity_names)\n",
    "\n",
    "\n",
    "extract_entity_names_txt(sample)"
   ]
  },
  {
   "cell_type": "markdown",
   "metadata": {},
   "source": [
    "## Example Data  - UK MPs' Register of of Interests\n",
    "In the UK, the Register of Interests of MPs is available as open data. It is republished at http://www.membersinterests.org.uk/ as CSV data files."
   ]
  },
  {
   "cell_type": "code",
   "execution_count": 45,
   "metadata": {
    "collapsed": false
   },
   "outputs": [
    {
     "name": "stdout",
     "output_type": "stream",
     "text": [
      "--2016-11-10 17:40:24--  http://downloads.membersinterests.org.uk/register/161031.zip\n",
      "Resolving downloads.membersinterests.org.uk (downloads.membersinterests.org.uk)... 191.239.203.8\n",
      "Connecting to downloads.membersinterests.org.uk (downloads.membersinterests.org.uk)|191.239.203.8|:80... connected.\n",
      "HTTP request sent, awaiting response... 200 OK\n",
      "Length: 240328 (235K) [application/octet-stream]\n",
      "Saving to: ‘data/mpinterests/161031.zip’\n",
      "\n",
      "data/mpinterests/16 100%[=====================>] 234.70K  --.-KB/s   in 0.09s  \n",
      "\n",
      "2016-11-10 17:40:24 (2.46 MB/s) - ‘data/mpinterests/161031.zip’ saved [240328/240328]\n",
      "\n"
     ]
    }
   ],
   "source": [
    "#Download some data\n",
    "!wget http://downloads.membersinterests.org.uk/register/161031.zip -P data/mpinterests/"
   ]
  },
  {
   "cell_type": "code",
   "execution_count": 41,
   "metadata": {
    "collapsed": false
   },
   "outputs": [
    {
     "name": "stdout",
     "output_type": "stream",
     "text": [
      "100927.zip  1017.zip  161031.csv  911.zip  925.zip\r\n"
     ]
    }
   ],
   "source": [
    "!ls data/mpinterests/"
   ]
  },
  {
   "cell_type": "markdown",
   "metadata": {},
   "source": [
    "Preview the data using a *pandas* dataframe (*pandas* is a powerful library for dealing with tabular data)."
   ]
  },
  {
   "cell_type": "code",
   "execution_count": 42,
   "metadata": {
    "collapsed": false
   },
   "outputs": [
    {
     "data": {
      "text/html": [
       "<div>\n",
       "<table border=\"1\" class=\"dataframe\">\n",
       "  <thead>\n",
       "    <tr style=\"text-align: right;\">\n",
       "      <th></th>\n",
       "      <th>0</th>\n",
       "      <th>1</th>\n",
       "      <th>2</th>\n",
       "      <th>3</th>\n",
       "      <th>4</th>\n",
       "    </tr>\n",
       "  </thead>\n",
       "  <tbody>\n",
       "    <tr>\n",
       "      <th>0</th>\n",
       "      <td>Nigel Adams</td>\n",
       "      <td>Selby and Ainsty</td>\n",
       "      <td>Conservative</td>\n",
       "      <td>http://www.publications.parliament.uk/pa/cm/cm...</td>\n",
       "      <td>Amount of donation or nature and value if dona...</td>\n",
       "    </tr>\n",
       "    <tr>\n",
       "      <th>1</th>\n",
       "      <td>Nigel Adams</td>\n",
       "      <td>Selby and Ainsty</td>\n",
       "      <td>Conservative</td>\n",
       "      <td>http://www.publications.parliament.uk/pa/cm/cm...</td>\n",
       "      <td>Date of receipt: 28 June 2013</td>\n",
       "    </tr>\n",
       "    <tr>\n",
       "      <th>2</th>\n",
       "      <td>Nigel Adams</td>\n",
       "      <td>Selby and Ainsty</td>\n",
       "      <td>Conservative</td>\n",
       "      <td>http://www.publications.parliament.uk/pa/cm/cm...</td>\n",
       "      <td>Date of acceptance: 5 July 2013</td>\n",
       "    </tr>\n",
       "    <tr>\n",
       "      <th>3</th>\n",
       "      <td>Nigel Adams</td>\n",
       "      <td>Selby and Ainsty</td>\n",
       "      <td>Conservative</td>\n",
       "      <td>http://www.publications.parliament.uk/pa/cm/cm...</td>\n",
       "      <td>Donor status: private limited company, registr...</td>\n",
       "    </tr>\n",
       "    <tr>\n",
       "      <th>4</th>\n",
       "      <td>Nigel Adams</td>\n",
       "      <td>Selby and Ainsty</td>\n",
       "      <td>Conservative</td>\n",
       "      <td>http://www.publications.parliament.uk/pa/cm/cm...</td>\n",
       "      <td>(Registered 21 July 2013)</td>\n",
       "    </tr>\n",
       "    <tr>\n",
       "      <th>5</th>\n",
       "      <td>Nigel Adams</td>\n",
       "      <td>Selby and Ainsty</td>\n",
       "      <td>Conservative</td>\n",
       "      <td>http://www.publications.parliament.uk/pa/cm/cm...</td>\n",
       "      <td>Name of donor: Stonegrave Properties Limited</td>\n",
       "    </tr>\n",
       "    <tr>\n",
       "      <th>6</th>\n",
       "      <td>Nigel Adams</td>\n",
       "      <td>Selby and Ainsty</td>\n",
       "      <td>Conservative</td>\n",
       "      <td>http://www.publications.parliament.uk/pa/cm/cm...</td>\n",
       "      <td>Address of donor:  Stonegrave House, Stonegrav...</td>\n",
       "    </tr>\n",
       "    <tr>\n",
       "      <th>7</th>\n",
       "      <td>Nigel Adams</td>\n",
       "      <td>Selby and Ainsty</td>\n",
       "      <td>Conservative</td>\n",
       "      <td>http://www.publications.parliament.uk/pa/cm/cm...</td>\n",
       "      <td>Amount of donation or nature and value if dona...</td>\n",
       "    </tr>\n",
       "    <tr>\n",
       "      <th>8</th>\n",
       "      <td>Nigel Adams</td>\n",
       "      <td>Selby and Ainsty</td>\n",
       "      <td>Conservative</td>\n",
       "      <td>http://www.publications.parliament.uk/pa/cm/cm...</td>\n",
       "      <td>Date of receipt: 28 June 2013</td>\n",
       "    </tr>\n",
       "    <tr>\n",
       "      <th>9</th>\n",
       "      <td>Nigel Adams</td>\n",
       "      <td>Selby and Ainsty</td>\n",
       "      <td>Conservative</td>\n",
       "      <td>http://www.publications.parliament.uk/pa/cm/cm...</td>\n",
       "      <td>Date of acceptance: 5 July 2013</td>\n",
       "    </tr>\n",
       "  </tbody>\n",
       "</table>\n",
       "</div>"
      ],
      "text/plain": [
       "             0                 1             2  \\\n",
       "0  Nigel Adams  Selby and Ainsty  Conservative   \n",
       "1  Nigel Adams  Selby and Ainsty  Conservative   \n",
       "2  Nigel Adams  Selby and Ainsty  Conservative   \n",
       "3  Nigel Adams  Selby and Ainsty  Conservative   \n",
       "4  Nigel Adams  Selby and Ainsty  Conservative   \n",
       "5  Nigel Adams  Selby and Ainsty  Conservative   \n",
       "6  Nigel Adams  Selby and Ainsty  Conservative   \n",
       "7  Nigel Adams  Selby and Ainsty  Conservative   \n",
       "8  Nigel Adams  Selby and Ainsty  Conservative   \n",
       "9  Nigel Adams  Selby and Ainsty  Conservative   \n",
       "\n",
       "                                                   3  \\\n",
       "0  http://www.publications.parliament.uk/pa/cm/cm...   \n",
       "1  http://www.publications.parliament.uk/pa/cm/cm...   \n",
       "2  http://www.publications.parliament.uk/pa/cm/cm...   \n",
       "3  http://www.publications.parliament.uk/pa/cm/cm...   \n",
       "4  http://www.publications.parliament.uk/pa/cm/cm...   \n",
       "5  http://www.publications.parliament.uk/pa/cm/cm...   \n",
       "6  http://www.publications.parliament.uk/pa/cm/cm...   \n",
       "7  http://www.publications.parliament.uk/pa/cm/cm...   \n",
       "8  http://www.publications.parliament.uk/pa/cm/cm...   \n",
       "9  http://www.publications.parliament.uk/pa/cm/cm...   \n",
       "\n",
       "                                                   4  \n",
       "0  Amount of donation or nature and value if dona...  \n",
       "1                     Date of receipt: 28 June 2013   \n",
       "2                   Date of acceptance: 5 July 2013   \n",
       "3  Donor status: private limited company, registr...  \n",
       "4                         (Registered 21 July 2013)   \n",
       "5      Name of donor: Stonegrave Properties Limited   \n",
       "6  Address of donor:  Stonegrave House, Stonegrav...  \n",
       "7  Amount of donation or nature and value if dona...  \n",
       "8                     Date of receipt: 28 June 2013   \n",
       "9                   Date of acceptance: 5 July 2013   "
      ]
     },
     "execution_count": 42,
     "metadata": {},
     "output_type": "execute_result"
    }
   ],
   "source": [
    "import pandas as pd\n",
    "pd.read_csv('data/mpinterests/1017.zip',compression='zip',skiprows=50,nrows=10,header=None)\n",
    "#Hmm - the following table looks like structured data in a record format?"
   ]
  },
  {
   "cell_type": "code",
   "execution_count": 39,
   "metadata": {
    "collapsed": false,
    "scrolled": false
   },
   "outputs": [
    {
     "data": {
      "text/html": [
       "<div>\n",
       "<table border=\"1\" class=\"dataframe\">\n",
       "  <thead>\n",
       "    <tr style=\"text-align: right;\">\n",
       "      <th></th>\n",
       "      <th>0</th>\n",
       "      <th>1</th>\n",
       "      <th>2</th>\n",
       "      <th>3</th>\n",
       "      <th>4</th>\n",
       "    </tr>\n",
       "  </thead>\n",
       "  <tbody>\n",
       "    <tr>\n",
       "      <th>0</th>\n",
       "      <td>Heidi Allen</td>\n",
       "      <td>South Cambridgeshire</td>\n",
       "      <td>Conservative</td>\n",
       "      <td>http://www.publications.parliament.uk/pa/cm/cm...</td>\n",
       "      <td>House in St Albans: (i). (Registered 22 May 20...</td>\n",
       "    </tr>\n",
       "    <tr>\n",
       "      <th>1</th>\n",
       "      <td>Heidi Allen</td>\n",
       "      <td>South Cambridgeshire</td>\n",
       "      <td>Conservative</td>\n",
       "      <td>http://www.publications.parliament.uk/pa/cm/cm...</td>\n",
       "      <td>House in London, owned jointly with my husband...</td>\n",
       "    </tr>\n",
       "    <tr>\n",
       "      <th>2</th>\n",
       "      <td>Heidi Allen</td>\n",
       "      <td>South Cambridgeshire</td>\n",
       "      <td>Conservative</td>\n",
       "      <td>http://www.publications.parliament.uk/pa/cm/cm...</td>\n",
       "      <td>RS Bike Paint Ltd, a paint manufacturing compa...</td>\n",
       "    </tr>\n",
       "    <tr>\n",
       "      <th>3</th>\n",
       "      <td>Graham Allen</td>\n",
       "      <td>Nottingham North</td>\n",
       "      <td>Labour</td>\n",
       "      <td>http://www.publications.parliament.uk/pa/cm/cm...</td>\n",
       "      <td>I am unremunerated Founding Chair of trustees ...</td>\n",
       "    </tr>\n",
       "    <tr>\n",
       "      <th>4</th>\n",
       "      <td>Graham Allen</td>\n",
       "      <td>Nottingham North</td>\n",
       "      <td>Labour</td>\n",
       "      <td>http://www.publications.parliament.uk/pa/cm/cm...</td>\n",
       "      <td>I am unremunerated Chair of the Rebalancing th...</td>\n",
       "    </tr>\n",
       "    <tr>\n",
       "      <th>5</th>\n",
       "      <td>Rosena Allin-Khan</td>\n",
       "      <td>Tooting</td>\n",
       "      <td>Labour</td>\n",
       "      <td>http://www.publications.parliament.uk/pa/cm/cm...</td>\n",
       "      <td>Payments received from St George's Hospital NH...</td>\n",
       "    </tr>\n",
       "    <tr>\n",
       "      <th>6</th>\n",
       "      <td>Rosena Allin-Khan</td>\n",
       "      <td>Tooting</td>\n",
       "      <td>Labour</td>\n",
       "      <td>http://www.publications.parliament.uk/pa/cm/cm...</td>\n",
       "      <td>16 June 2016, received £1,946.96. This include...</td>\n",
       "    </tr>\n",
       "    <tr>\n",
       "      <th>7</th>\n",
       "      <td>Rosena Allin-Khan</td>\n",
       "      <td>Tooting</td>\n",
       "      <td>Labour</td>\n",
       "      <td>http://www.publications.parliament.uk/pa/cm/cm...</td>\n",
       "      <td>Allowances received as a Councillor for Wandsw...</td>\n",
       "    </tr>\n",
       "    <tr>\n",
       "      <th>8</th>\n",
       "      <td>Rosena Allin-Khan</td>\n",
       "      <td>Tooting</td>\n",
       "      <td>Labour</td>\n",
       "      <td>http://www.publications.parliament.uk/pa/cm/cm...</td>\n",
       "      <td>13 July 2016, received £680.95. (Registered 29...</td>\n",
       "    </tr>\n",
       "    <tr>\n",
       "      <th>9</th>\n",
       "      <td>David Amess</td>\n",
       "      <td>Southend West</td>\n",
       "      <td>Conservative</td>\n",
       "      <td>http://www.publications.parliament.uk/pa/cm/cm...</td>\n",
       "      <td>Until further notice, I am Parliamentary Advis...</td>\n",
       "    </tr>\n",
       "  </tbody>\n",
       "</table>\n",
       "</div>"
      ],
      "text/plain": [
       "                   0                     1             2  \\\n",
       "0        Heidi Allen  South Cambridgeshire  Conservative   \n",
       "1        Heidi Allen  South Cambridgeshire  Conservative   \n",
       "2        Heidi Allen  South Cambridgeshire  Conservative   \n",
       "3       Graham Allen      Nottingham North        Labour   \n",
       "4       Graham Allen      Nottingham North        Labour   \n",
       "5  Rosena Allin-Khan               Tooting        Labour   \n",
       "6  Rosena Allin-Khan               Tooting        Labour   \n",
       "7  Rosena Allin-Khan               Tooting        Labour   \n",
       "8  Rosena Allin-Khan               Tooting        Labour   \n",
       "9        David Amess         Southend West  Conservative   \n",
       "\n",
       "                                                   3  \\\n",
       "0  http://www.publications.parliament.uk/pa/cm/cm...   \n",
       "1  http://www.publications.parliament.uk/pa/cm/cm...   \n",
       "2  http://www.publications.parliament.uk/pa/cm/cm...   \n",
       "3  http://www.publications.parliament.uk/pa/cm/cm...   \n",
       "4  http://www.publications.parliament.uk/pa/cm/cm...   \n",
       "5  http://www.publications.parliament.uk/pa/cm/cm...   \n",
       "6  http://www.publications.parliament.uk/pa/cm/cm...   \n",
       "7  http://www.publications.parliament.uk/pa/cm/cm...   \n",
       "8  http://www.publications.parliament.uk/pa/cm/cm...   \n",
       "9  http://www.publications.parliament.uk/pa/cm/cm...   \n",
       "\n",
       "                                                   4  \n",
       "0  House in St Albans: (i). (Registered 22 May 20...  \n",
       "1  House in London, owned jointly with my husband...  \n",
       "2  RS Bike Paint Ltd, a paint manufacturing compa...  \n",
       "3  I am unremunerated Founding Chair of trustees ...  \n",
       "4  I am unremunerated Chair of the Rebalancing th...  \n",
       "5  Payments received from St George's Hospital NH...  \n",
       "6  16 June 2016, received £1,946.96. This include...  \n",
       "7  Allowances received as a Councillor for Wandsw...  \n",
       "8  13 July 2016, received £680.95. (Registered 29...  \n",
       "9  Until further notice, I am Parliamentary Advis...  "
      ]
     },
     "execution_count": 39,
     "metadata": {},
     "output_type": "execute_result"
    }
   ],
   "source": [
    "#Import some sample data from UK Members of Parliament register of interests\n",
    "df=pd.read_csv('data/mpinterests/161031.csv',skiprows=50,nrows=10,header=None)\n",
    "df\n",
    "#But this looks scruffier?"
   ]
  },
  {
   "cell_type": "markdown",
   "metadata": {},
   "source": [
    "We can apply the simple named entity extraction function to the registered interest string in column 4."
   ]
  },
  {
   "cell_type": "code",
   "execution_count": 40,
   "metadata": {
    "collapsed": false
   },
   "outputs": [
    {
     "data": {
      "text/html": [
       "<div>\n",
       "<table border=\"1\" class=\"dataframe\">\n",
       "  <thead>\n",
       "    <tr style=\"text-align: right;\">\n",
       "      <th></th>\n",
       "      <th>0</th>\n",
       "      <th>1</th>\n",
       "      <th>2</th>\n",
       "      <th>3</th>\n",
       "      <th>4</th>\n",
       "      <th>entities</th>\n",
       "    </tr>\n",
       "  </thead>\n",
       "  <tbody>\n",
       "    <tr>\n",
       "      <th>0</th>\n",
       "      <td>Heidi Allen</td>\n",
       "      <td>South Cambridgeshire</td>\n",
       "      <td>Conservative</td>\n",
       "      <td>http://www.publications.parliament.uk/pa/cm/cm...</td>\n",
       "      <td>House in St Albans: (i). (Registered 22 May 20...</td>\n",
       "      <td>{St Albans, House}</td>\n",
       "    </tr>\n",
       "    <tr>\n",
       "      <th>1</th>\n",
       "      <td>Heidi Allen</td>\n",
       "      <td>South Cambridgeshire</td>\n",
       "      <td>Conservative</td>\n",
       "      <td>http://www.publications.parliament.uk/pa/cm/cm...</td>\n",
       "      <td>House in London, owned jointly with my husband...</td>\n",
       "      <td>{London, House}</td>\n",
       "    </tr>\n",
       "    <tr>\n",
       "      <th>2</th>\n",
       "      <td>Heidi Allen</td>\n",
       "      <td>South Cambridgeshire</td>\n",
       "      <td>Conservative</td>\n",
       "      <td>http://www.publications.parliament.uk/pa/cm/cm...</td>\n",
       "      <td>RS Bike Paint Ltd, a paint manufacturing compa...</td>\n",
       "      <td>{RS Bike Paint Ltd}</td>\n",
       "    </tr>\n",
       "    <tr>\n",
       "      <th>3</th>\n",
       "      <td>Graham Allen</td>\n",
       "      <td>Nottingham North</td>\n",
       "      <td>Labour</td>\n",
       "      <td>http://www.publications.parliament.uk/pa/cm/cm...</td>\n",
       "      <td>I am unremunerated Founding Chair of trustees ...</td>\n",
       "      <td>{Early Intervention Foundation}</td>\n",
       "    </tr>\n",
       "    <tr>\n",
       "      <th>4</th>\n",
       "      <td>Graham Allen</td>\n",
       "      <td>Nottingham North</td>\n",
       "      <td>Labour</td>\n",
       "      <td>http://www.publications.parliament.uk/pa/cm/cm...</td>\n",
       "      <td>I am unremunerated Chair of the Rebalancing th...</td>\n",
       "      <td>{}</td>\n",
       "    </tr>\n",
       "    <tr>\n",
       "      <th>5</th>\n",
       "      <td>Rosena Allin-Khan</td>\n",
       "      <td>Tooting</td>\n",
       "      <td>Labour</td>\n",
       "      <td>http://www.publications.parliament.uk/pa/cm/cm...</td>\n",
       "      <td>Payments received from St George's Hospital NH...</td>\n",
       "      <td>{Blackshaw Road, Hospital, London}</td>\n",
       "    </tr>\n",
       "    <tr>\n",
       "      <th>6</th>\n",
       "      <td>Rosena Allin-Khan</td>\n",
       "      <td>Tooting</td>\n",
       "      <td>Labour</td>\n",
       "      <td>http://www.publications.parliament.uk/pa/cm/cm...</td>\n",
       "      <td>16 June 2016, received £1,946.96. This include...</td>\n",
       "      <td>{}</td>\n",
       "    </tr>\n",
       "    <tr>\n",
       "      <th>7</th>\n",
       "      <td>Rosena Allin-Khan</td>\n",
       "      <td>Tooting</td>\n",
       "      <td>Labour</td>\n",
       "      <td>http://www.publications.parliament.uk/pa/cm/cm...</td>\n",
       "      <td>Allowances received as a Councillor for Wandsw...</td>\n",
       "      <td>{Town Hall, Wandsworth High Street, Wandsworth...</td>\n",
       "    </tr>\n",
       "    <tr>\n",
       "      <th>8</th>\n",
       "      <td>Rosena Allin-Khan</td>\n",
       "      <td>Tooting</td>\n",
       "      <td>Labour</td>\n",
       "      <td>http://www.publications.parliament.uk/pa/cm/cm...</td>\n",
       "      <td>13 July 2016, received £680.95. (Registered 29...</td>\n",
       "      <td>{}</td>\n",
       "    </tr>\n",
       "    <tr>\n",
       "      <th>9</th>\n",
       "      <td>David Amess</td>\n",
       "      <td>Southend West</td>\n",
       "      <td>Conservative</td>\n",
       "      <td>http://www.publications.parliament.uk/pa/cm/cm...</td>\n",
       "      <td>Until further notice, I am Parliamentary Advis...</td>\n",
       "      <td>{East Grinstead House, East Grinstead, Caravan...</td>\n",
       "    </tr>\n",
       "  </tbody>\n",
       "</table>\n",
       "</div>"
      ],
      "text/plain": [
       "                   0                     1             2  \\\n",
       "0        Heidi Allen  South Cambridgeshire  Conservative   \n",
       "1        Heidi Allen  South Cambridgeshire  Conservative   \n",
       "2        Heidi Allen  South Cambridgeshire  Conservative   \n",
       "3       Graham Allen      Nottingham North        Labour   \n",
       "4       Graham Allen      Nottingham North        Labour   \n",
       "5  Rosena Allin-Khan               Tooting        Labour   \n",
       "6  Rosena Allin-Khan               Tooting        Labour   \n",
       "7  Rosena Allin-Khan               Tooting        Labour   \n",
       "8  Rosena Allin-Khan               Tooting        Labour   \n",
       "9        David Amess         Southend West  Conservative   \n",
       "\n",
       "                                                   3  \\\n",
       "0  http://www.publications.parliament.uk/pa/cm/cm...   \n",
       "1  http://www.publications.parliament.uk/pa/cm/cm...   \n",
       "2  http://www.publications.parliament.uk/pa/cm/cm...   \n",
       "3  http://www.publications.parliament.uk/pa/cm/cm...   \n",
       "4  http://www.publications.parliament.uk/pa/cm/cm...   \n",
       "5  http://www.publications.parliament.uk/pa/cm/cm...   \n",
       "6  http://www.publications.parliament.uk/pa/cm/cm...   \n",
       "7  http://www.publications.parliament.uk/pa/cm/cm...   \n",
       "8  http://www.publications.parliament.uk/pa/cm/cm...   \n",
       "9  http://www.publications.parliament.uk/pa/cm/cm...   \n",
       "\n",
       "                                                   4  \\\n",
       "0  House in St Albans: (i). (Registered 22 May 20...   \n",
       "1  House in London, owned jointly with my husband...   \n",
       "2  RS Bike Paint Ltd, a paint manufacturing compa...   \n",
       "3  I am unremunerated Founding Chair of trustees ...   \n",
       "4  I am unremunerated Chair of the Rebalancing th...   \n",
       "5  Payments received from St George's Hospital NH...   \n",
       "6  16 June 2016, received £1,946.96. This include...   \n",
       "7  Allowances received as a Councillor for Wandsw...   \n",
       "8  13 July 2016, received £680.95. (Registered 29...   \n",
       "9  Until further notice, I am Parliamentary Advis...   \n",
       "\n",
       "                                            entities  \n",
       "0                                 {St Albans, House}  \n",
       "1                                    {London, House}  \n",
       "2                                {RS Bike Paint Ltd}  \n",
       "3                    {Early Intervention Foundation}  \n",
       "4                                                 {}  \n",
       "5                 {Blackshaw Road, Hospital, London}  \n",
       "6                                                 {}  \n",
       "7  {Town Hall, Wandsworth High Street, Wandsworth...  \n",
       "8                                                 {}  \n",
       "9  {East Grinstead House, East Grinstead, Caravan...  "
      ]
     },
     "execution_count": 40,
     "metadata": {},
     "output_type": "execute_result"
    }
   ],
   "source": [
    "df['entities']=df[4].apply(lambda x: extract_entity_names_txt(x))\n",
    "df"
   ]
  },
  {
   "cell_type": "code",
   "execution_count": 9,
   "metadata": {
    "collapsed": false
   },
   "outputs": [],
   "source": [
    "#Chunk loader - handy for loading in data a bit at a time if the file is stupidly large...\n",
    "import os\n",
    "\n",
    "PATH='data/mpinterests'\n",
    "\n",
    "for fname in os.listdir(PATH):\n",
    "    #if a file is a CSV file, process it\n",
    "    if fname.endswith('.csv'):\n",
    "        fname='{}/{}'.format(PATH.rstrip('/'),fname)\n",
    "        #Read in 10,000 rows at a time\n",
    "        chunks=pd.read_csv(fname,chunksize=10000)\n",
    "        for chunk in chunks:\n",
    "            #do something\n",
    "            pass"
   ]
  },
  {
   "cell_type": "markdown",
   "metadata": {},
   "source": [
    "## Shared Named Entities\n",
    "\n",
    "Simple example showing how we can parse the named entitites out of the MP register of interests and construct a graph from MP to named entitity.\n",
    "\n",
    "The *networkx* library is great for constructing graphs."
   ]
  },
  {
   "cell_type": "code",
   "execution_count": 68,
   "metadata": {
    "collapsed": false
   },
   "outputs": [],
   "source": [
    "import networkx as nx\n",
    "DG=nx.DiGraph()"
   ]
  },
  {
   "cell_type": "markdown",
   "metadata": {},
   "source": [
    "Create a simple function that will add edges from node to extracted named entity. Use a *directed graph* going from MP to named entity extracted from register entry."
   ]
  },
  {
   "cell_type": "code",
   "execution_count": 69,
   "metadata": {
    "collapsed": false
   },
   "outputs": [],
   "source": [
    "def mpinterestsGrapher(x,DG):\n",
    "    for d in extract_entity_names_txt(x[4]):\n",
    "        DG.add_node(x[0], Label=x[0])\n",
    "        DG.add_node(d, Label=d)\n",
    "        DG.add_edge(x[0],d)"
   ]
  },
  {
   "cell_type": "code",
   "execution_count": 70,
   "metadata": {
    "collapsed": false
   },
   "outputs": [],
   "source": [
    "#Construct graph based on records in 2016 dataset\n",
    "for chunk in pd.read_csv('data/mpinterests/161031.csv',chunksize=1000):\n",
    "    tmp=chunk.apply(lambda x: mpinterestsGrapher(x,DG),axis=1)"
   ]
  },
  {
   "cell_type": "code",
   "execution_count": 71,
   "metadata": {
    "collapsed": false
   },
   "outputs": [
    {
     "data": {
      "text/plain": [
       "4222"
      ]
     },
     "execution_count": 71,
     "metadata": {},
     "output_type": "execute_result"
    }
   ],
   "source": [
    "#How many nodes are there?\n",
    "DG.number_of_nodes()"
   ]
  },
  {
   "cell_type": "code",
   "execution_count": 80,
   "metadata": {
    "collapsed": true
   },
   "outputs": [],
   "source": [
    "#Save the graph as a file we can visualise in something like Gephi\n",
    "nx.write_gexf(DG, \"membersInterests.gexf\")"
   ]
  },
  {
   "cell_type": "markdown",
   "metadata": {},
   "source": [
    "Having built the graph, we can look to see which nodes have highest in degree (nodes most heavily referenced from MPs) and which nodes have highest out degree (MPs with most interests associated with a named entity).\n",
    "\n",
    "Note that at this stage the named entity nodes could be really dirty..."
   ]
  },
  {
   "cell_type": "code",
   "execution_count": 81,
   "metadata": {
    "collapsed": false
   },
   "outputs": [
    {
     "name": "stdout",
     "output_type": "stream",
     "text": [
      "('Name', 385)\n",
      "('London', 339)\n",
      "('Date', 198)\n",
      "('Ipsos MORI', 67)\n",
      "('House', 57)\n",
      "('ComRes', 52)\n",
      "('London E1W', 46)\n",
      "('Square', 45)\n",
      "('Address', 44)\n",
      "('Payment', 39)\n",
      "('Flat', 37)\n",
      "('Foreign Affairs', 36)\n",
      "('Fee', 35)\n",
      "('Four Millbank', 35)\n",
      "('Israel', 33)\n",
      "('APPG', 33)\n",
      "('Office Manager', 29)\n",
      "('British', 26)\n",
      "('London W1A', 26)\n",
      "('London N1', 24)\n"
     ]
    }
   ],
   "source": [
    "from operator import itemgetter\n",
    "\n",
    "#Show the most popular named entity nodes\n",
    "for node in sorted(DG.in_degree_iter(),key=itemgetter(1),reverse=True)[:20]:\n",
    "    print(node)"
   ]
  },
  {
   "cell_type": "code",
   "execution_count": 107,
   "metadata": {
    "collapsed": false
   },
   "outputs": [
    {
     "name": "stdout",
     "output_type": "stream",
     "text": [
      "('BBC', 19)\n",
      "('Israel Ltd Address', 18)\n",
      "('China Forum Ltd Address', 9)\n",
      "('Guardian News', 8)\n",
      "('UK China Forum Ltd', 7)\n",
      "('News UK', 6)\n",
      "('Media Ltd', 5)\n",
      "('Australia Israel Cultural Exchange Limited', 5)\n",
      "('Ireland Ltd', 4)\n",
      "('Georgina Capel Associates Ltd', 3)\n",
      "('Northumbrian Water Ltd Address', 2)\n",
      "('DCD Properties Ltd Address', 2)\n",
      "('Random House Group Ltd', 2)\n",
      "('LLP Address', 2)\n",
      "('BBC Broadcasting House', 2)\n",
      "('Newsquest', 2)\n",
      "('GO Movement Ltd', 2)\n",
      "('Telegraph Media Group Ltd', 2)\n",
      "('Partners Ltd', 2)\n",
      "('Hat Trick Productions Ltd', 2)\n",
      "('News Building', 2)\n",
      "('Australia Israel Cultural Exchange Ltd Address', 2)\n",
      "('Grassroots Out Ltd', 2)\n",
      "('QUBRIC Ltd', 2)\n",
      "('Gleneagles Hotel Ltd Address', 2)\n",
      "('Weightmans LLP', 2)\n",
      "('Carlton Rock Ltd Address', 2)\n",
      "('Saxton Green LLP', 2)\n",
      "('Associated Newspapers', 2)\n",
      "('Guardian News Media Ltd', 2)\n"
     ]
    }
   ],
   "source": [
    "#look for something more meaningful - dig a bit deeper...\n",
    "for node in sorted(DG.in_degree_iter(),key=itemgetter(1),reverse=True):\n",
    "    name=node[0]\n",
    "    indegree=node[1]\n",
    "    if indegree>1 and [n for n in ['Ltd', 'Limited', 'LLP', 'Inc', 'BBC', 'ITV', 'News'] if n in name]:\n",
    "        print(node)"
   ]
  },
  {
   "cell_type": "code",
   "execution_count": 82,
   "metadata": {
    "collapsed": false
   },
   "outputs": [
    {
     "name": "stdout",
     "output_type": "stream",
     "text": [
      "('Kenneth Clarke', 104)\n",
      "('Liam Fox', 93)\n",
      "('Mark Pritchard', 59)\n",
      "('Michael Gove', 58)\n",
      "('Alex Salmond', 56)\n",
      "('Nick Clegg', 54)\n",
      "('Graham Brady', 52)\n",
      "('Tasmina Ahmed-Sheikh', 50)\n",
      "('Henry Smith', 49)\n",
      "('Gisela Stuart', 49)\n",
      "('Geoffrey Cox', 49)\n",
      "('Bob Blackman', 49)\n",
      "('Virendra Sharma', 46)\n",
      "('Jack Lopresti', 46)\n",
      "('Nigel Evans', 46)\n",
      "('Thomas Tugendhat', 45)\n",
      "('Tristram Hunt', 44)\n",
      "('Simon Danczuk', 44)\n",
      "('Graham Jones', 43)\n",
      "('David Lammy', 43)\n"
     ]
    }
   ],
   "source": [
    "#SHow the members with most linked items in their register entries\n",
    "for node in sorted(DG.out_degree_iter(),key=itemgetter(1),reverse=True)[:20]:\n",
    "    print(node)"
   ]
  },
  {
   "cell_type": "code",
   "execution_count": 118,
   "metadata": {
    "collapsed": false
   },
   "outputs": [],
   "source": [
    "#How about another file?\n",
    "\n",
    "def mpinterestsGrapher2(x,DG):\n",
    "    if x[4].startswith(\"Name of donor: \"):\n",
    "        DG.add_node(x[0], Label=x[0])\n",
    "        d=x[4].replace(\"Name of donor: \",'').strip()\n",
    "        DG.add_node(d, Label=d)\n",
    "        DG.add_edge(x[0],d)\n",
    "        \n",
    "DG=nx.DiGraph()\n",
    "for chunk in pd.read_csv('data/mpinterests/1017.zip',compression='zip',header=None,chunksize=1000):\n",
    "    tmp=chunk.apply(lambda x: mpinterestsGrapher2(x,DG),axis=1)"
   ]
  },
  {
   "cell_type": "code",
   "execution_count": 120,
   "metadata": {
    "collapsed": false
   },
   "outputs": [
    {
     "name": "stdout",
     "output_type": "stream",
     "text": [
      "('', 24)\n",
      "('United and Cecil Club', 18)\n",
      "('Labour Friends of Israel', 11)\n",
      "('Government of the United Arab Emirates', 10)\n",
      "('Conservative Friends of Israel', 9)\n",
      "('JTI', 9)\n",
      "('HM Government of Gibraltar', 7)\n",
      "('Majlis As Shura, Shura Council of the Kingdom of Saudi Arabia', 7)\n",
      "('British Association for Shooting and Conservation (BASC)', 6)\n",
      "('Sun Mark Ltd', 6)\n",
      "('Results UK', 5)\n",
      "('BASF PLC', 5)\n",
      "('BASF plc', 5)\n",
      "('Motor Sports Association', 4)\n",
      "('European Parliamentary Forum on Population and Development', 4)\n",
      "('Catholic Bishops Conference of England and Wales', 4)\n",
      "('The European Azerbaijan Society', 4)\n",
      "('RESULTS UK', 3)\n",
      "('Christian Aid', 3)\n",
      "('(1) UK-Korea forum for the Future; (2) The Korea Foundation', 3)\n"
     ]
    }
   ],
   "source": [
    "for node in sorted(DG.in_degree_iter(),key=itemgetter(1),reverse=True)[:20]:\n",
    "    print(node)"
   ]
  },
  {
   "cell_type": "code",
   "execution_count": 121,
   "metadata": {
    "collapsed": false
   },
   "outputs": [
    {
     "name": "stdout",
     "output_type": "stream",
     "text": [
      "('Sun Mark Ltd', 6)\n",
      "('Brompton Capital Ltd', 3)\n",
      "('Dukehill Services Ltd', 3)\n",
      "('BBC Cymru Wales', 2)\n",
      "('JCB Research Limited', 2)\n",
      "('PricewaterhouseCoopers LLP', 2)\n",
      "('JCB Research Ltd', 2)\n",
      "('Ministry of Sound Group Ltd', 2)\n",
      "('ITV plc', 2)\n",
      "('DCD Properties Ltd', 2)\n",
      "('Hitachi Rail Europe Ltd', 2)\n"
     ]
    }
   ],
   "source": [
    "for node in sorted(DG.in_degree_iter(),key=itemgetter(1),reverse=True):\n",
    "    name=node[0]\n",
    "    indegree=node[1]\n",
    "    if indegree>1 and [n for n in ['Ltd', 'Limited', 'LLP', 'Inc', 'BBC', 'ITV', 'News'] if n in name]:\n",
    "        print(node)"
   ]
  },
  {
   "cell_type": "code",
   "execution_count": null,
   "metadata": {
    "collapsed": true
   },
   "outputs": [],
   "source": []
  }
 ],
 "metadata": {
  "kernelspec": {
   "display_name": "Python 3",
   "language": "python",
   "name": "python3"
  },
  "language_info": {
   "codemirror_mode": {
    "name": "ipython",
    "version": 3
   },
   "file_extension": ".py",
   "mimetype": "text/x-python",
   "name": "python",
   "nbconvert_exporter": "python",
   "pygments_lexer": "ipython3",
   "version": "3.5.2"
  }
 },
 "nbformat": 4,
 "nbformat_minor": 1
}
