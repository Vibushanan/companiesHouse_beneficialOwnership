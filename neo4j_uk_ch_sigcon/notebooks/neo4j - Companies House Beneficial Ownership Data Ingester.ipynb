{
 "cells": [
  {
   "cell_type": "code",
   "execution_count": 1,
   "metadata": {
    "collapsed": false
   },
   "outputs": [
    {
     "name": "stdout",
     "output_type": "stream",
     "text": [
      "Collecting py2neo\n",
      "  Downloading py2neo-3.1.2.tar.gz (100kB)\n",
      "\u001b[K    100% |████████████████████████████████| 102kB 2.4MB/s \n",
      "\u001b[?25hBuilding wheels for collected packages: py2neo\n",
      "  Running setup.py bdist_wheel for py2neo ... \u001b[?25l-\b \b\\\b \bdone\n",
      "\u001b[?25h  Stored in directory: /home/jovyan/.cache/pip/wheels/72/76/d9/1dffb7c4c4161e2c0282b86d3e26df26ac442f17397c7bd44f\n",
      "Successfully built py2neo\n",
      "Installing collected packages: py2neo\n",
      "Successfully installed py2neo-3.1.2\n"
     ]
    }
   ],
   "source": [
    "!pip3 install py2neo\n",
    "from py2neo import Graph"
   ]
  },
  {
   "cell_type": "code",
   "execution_count": 6,
   "metadata": {
    "collapsed": true
   },
   "outputs": [],
   "source": [
    "import json\n",
    "import codecs"
   ]
  },
  {
   "cell_type": "code",
   "execution_count": 36,
   "metadata": {
    "collapsed": true
   },
   "outputs": [],
   "source": [
    "graph = Graph(\"http://neo4j:7474/db/data/\",user='neo4j',password='neo4jch')"
   ]
  },
  {
   "cell_type": "code",
   "execution_count": 57,
   "metadata": {
    "collapsed": false
   },
   "outputs": [
    {
     "data": {
      "text/plain": [
       "frozenset()"
      ]
     },
     "execution_count": 57,
     "metadata": {},
     "output_type": "execute_result"
    }
   ],
   "source": [
    "graph.node_labels"
   ]
  },
  {
   "cell_type": "code",
   "execution_count": 89,
   "metadata": {
    "collapsed": false
   },
   "outputs": [
    {
     "data": {
      "text/plain": [
       "<py2neo.database.Cursor at 0x7ff5bae37358>"
      ]
     },
     "execution_count": 89,
     "metadata": {},
     "output_type": "execute_result"
    }
   ],
   "source": [
    "#DELETE EVERYTHING...\n",
    "graph.run(\"MATCH (n) DETACH DELETE n\")"
   ]
  },
  {
   "cell_type": "markdown",
   "metadata": {},
   "source": [
    "### Experiment Loading in Beneficial Ownership Data\n",
    "\n",
    "This data is provided as JSON records; one big question is how to model this data appropriately as a `neo4j` graph.\n",
    "\n",
    "One approach would be to define node types as follows:\n",
    "\n",
    "- person records;\n",
    "- person_address records;\n",
    "- company records.\n",
    "\n",
    "Ideally, we'd have already created company record nodes from Companies House data, keyed by compnay number, then identify and connect to the node when we have a beneficial owner to link to it?\n",
    "\n",
    "The `natures_of_control` list then suggests several possible edge types between a person and a company?\n",
    "\n",
    "Need to work out what constraints are required and how to trap against them as part of data quality check."
   ]
  },
  {
   "cell_type": "code",
   "execution_count": 20,
   "metadata": {
    "collapsed": false
   },
   "outputs": [
    {
     "name": "stdout",
     "output_type": "stream",
     "text": [
      "{\"company_number\":\"09145694\",\"data\":{\"address\":{\"address_line_1\":\"Reading Road\",\"locality\":\"Henley-On-Thames\",\"postal_code\":\"RG9 1DP\",\"premises\":\"161\",\"region\":\"Oxfordshire\"},\"country_of_residence\":\"England\",\"date_of_birth\":{\"month\":2,\"year\":1977},\"etag\":\"26281d9bedb2d102359f6afc3cb8cf62bb4a7f01\",\"kind\":\"individual-person-with-significant-control\",\"links\":{\"self\":\"/company/09145694/persons-with-significant-control/individual/bIhuKnMFctSnjrDjUG8n3NgOrlU\"},\"name\":\"Mrs Nga Thanh Wildman\",\"name_elements\":{\"forename\":\"Nga\",\"middle_name\":\"Thanh\",\"surname\":\"Wildman\",\"title\":\"Mrs\"},\"nationality\":\"Vietnamese\",\"natures_of_control\":[\"ownership-of-shares-50-to-75-percent\"],\"notified_on\":\"2016-04-06\"}}\r\n"
     ]
    }
   ],
   "source": [
    "!head -n 1 persons-with-significant-control-snapshot-2016-10-25.txt"
   ]
  },
  {
   "cell_type": "code",
   "execution_count": 21,
   "metadata": {
    "collapsed": true
   },
   "outputs": [],
   "source": [
    "!head -n 100 persons-with-significant-control-snapshot-2016-10-25.txt > snapshot_small.txt"
   ]
  },
  {
   "cell_type": "code",
   "execution_count": 90,
   "metadata": {
    "collapsed": false
   },
   "outputs": [],
   "source": [
    "#Minimal import of some sample data\n",
    "#The natures_of_control list suggests several possible typed edges connecting person with company\n",
    "with codecs.open('snapshot_beneficialsmall.txt', 'r', 'utf-8-sig') as f:\n",
    "    for line in f:\n",
    "        jdata = json.loads(line)\n",
    "        query = \"\"\"\n",
    "WITH {jdata} AS jd\n",
    "MERGE (beneficialowner:BeneficialOwner {name: jd.data.name}) ON CREATE\n",
    "  SET beneficialowner.nationality = jd.data.nationality, beneficialowner.country_of_residence = jd.data.country_of_residence\n",
    "MERGE (company:Company {companynumber: jd.company_number})\n",
    "MERGE (beneficialowner)-[:BENEFICIALOWNEROF]->(company)\n",
    "FOREACH (noc IN jd.data.natures_of_control | MERGE (beneficialowner)-[:BENEFICIALOWNEROF {kind:noc}]->(company))\n",
    "\"\"\"\n",
    "        graph.run(query, jdata = jdata)\n",
    "#?how would we link to pre-existing company nodes with the correct company number?\n",
    "#Do we MATCH them before the edge creating MERGE? MATCH (company:Company {companynumber:jd.company_number})"
   ]
  },
  {
   "cell_type": "code",
   "execution_count": 91,
   "metadata": {
    "collapsed": false
   },
   "outputs": [
    {
     "data": {
      "text/plain": [
       "frozenset({'BeneficialOwner', 'Company'})"
      ]
     },
     "execution_count": 91,
     "metadata": {},
     "output_type": "execute_result"
    }
   ],
   "source": [
    "graph.node_labels"
   ]
  },
  {
   "cell_type": "code",
   "execution_count": 92,
   "metadata": {
    "collapsed": false
   },
   "outputs": [
    {
     "name": "stdout",
     "output_type": "stream",
     "text": [
      "('person': (eaacbee:BeneficialOwner {country_of_residence:\"England\",name:\"Mrs Nga Thanh Wildman\",nationality:\"Vietnamese\"}), 'co': (f9369c4:Company {companynumber:\"09145694\"}))\n",
      "('person': (eaacbee:BeneficialOwner {country_of_residence:\"England\",name:\"Mrs Nga Thanh Wildman\",nationality:\"Vietnamese\"}), 'co': (f9369c4:Company {companynumber:\"09145694\"}))\n",
      "('person': (e8ddcb3:BeneficialOwner {country_of_residence:\"England\",name:\"Mr Stephen Robert Charles Davies\",nationality:\"British\"}), 'co': (f10a526:Company {companynumber:\"08581893\"}))\n",
      "('person': (e8ddcb3:BeneficialOwner {country_of_residence:\"England\",name:\"Mr Stephen Robert Charles Davies\",nationality:\"British\"}), 'co': (f10a526:Company {companynumber:\"08581893\"}))\n",
      "('person': (e8ddcb3:BeneficialOwner {country_of_residence:\"England\",name:\"Mr Stephen Robert Charles Davies\",nationality:\"British\"}), 'co': (f10a526:Company {companynumber:\"08581893\"}))\n"
     ]
    }
   ],
   "source": [
    "q='''\n",
    "MATCH (person)-[:BENEFICIALOWNEROF]->(co)\n",
    "RETURN person, co LIMIT 5\n",
    "'''\n",
    "for a in graph.run(q):\n",
    "    print(a)"
   ]
  },
  {
   "cell_type": "code",
   "execution_count": 93,
   "metadata": {
    "collapsed": false
   },
   "outputs": [
    {
     "name": "stdout",
     "output_type": "stream",
     "text": [
      "('n': (eaacbee:BeneficialOwner {country_of_residence:\"England\",name:\"Mrs Nga Thanh Wildman\",nationality:\"Vietnamese\"}), 'm': (f9369c4:Company {companynumber:\"09145694\"}), 'r.kind': 'ownership-of-shares-50-to-75-percent')\n",
      "('n': (eaacbee:BeneficialOwner {country_of_residence:\"England\",name:\"Mrs Nga Thanh Wildman\",nationality:\"Vietnamese\"}), 'm': (f9369c4:Company {companynumber:\"09145694\"}), 'r.kind': None)\n",
      "('n': (f9369c4:Company {companynumber:\"09145694\"}), 'm': (eaacbee:BeneficialOwner {country_of_residence:\"England\",name:\"Mrs Nga Thanh Wildman\",nationality:\"Vietnamese\"}), 'r.kind': 'ownership-of-shares-50-to-75-percent')\n",
      "('n': (f9369c4:Company {companynumber:\"09145694\"}), 'm': (eaacbee:BeneficialOwner {country_of_residence:\"England\",name:\"Mrs Nga Thanh Wildman\",nationality:\"Vietnamese\"}), 'r.kind': None)\n",
      "('n': (e8ddcb3:BeneficialOwner {country_of_residence:\"England\",name:\"Mr Stephen Robert Charles Davies\",nationality:\"British\"}), 'm': (f10a526:Company {companynumber:\"08581893\"}), 'r.kind': 'ownership-of-shares-25-to-50-percent')\n"
     ]
    }
   ],
   "source": [
    "q='''\n",
    "MATCH (n)-[r]-(m)\n",
    "RETURN n,m,r.kind LIMIT 5\n",
    "'''\n",
    "for a in graph.run(q):\n",
    "    print(a)"
   ]
  },
  {
   "cell_type": "code",
   "execution_count": 95,
   "metadata": {
    "collapsed": false
   },
   "outputs": [
    {
     "name": "stdout",
     "output_type": "stream",
     "text": [
      "('type(r)': 'BENEFICIALOWNEROF', 'r.kind': 'ownership-of-shares-50-to-75-percent')\n",
      "('type(r)': 'BENEFICIALOWNEROF', 'r.kind': None)\n",
      "('type(r)': 'BENEFICIALOWNEROF', 'r.kind': 'ownership-of-shares-25-to-50-percent')\n",
      "('type(r)': 'BENEFICIALOWNEROF', 'r.kind': 'ownership-of-shares-25-to-50-percent-as-firm')\n",
      "('type(r)': 'BENEFICIALOWNEROF', 'r.kind': 'voting-rights-25-to-50-percent')\n",
      "('type(r)': 'BENEFICIALOWNEROF', 'r.kind': 'significant-influence-or-control')\n",
      "('type(r)': 'BENEFICIALOWNEROF', 'r.kind': 'significant-influence-or-control-as-firm')\n",
      "('type(r)': 'BENEFICIALOWNEROF', 'r.kind': 'right-to-appoint-and-remove-directors-as-firm')\n",
      "('type(r)': 'BENEFICIALOWNEROF', 'r.kind': 'significant-influence-or-control-as-trust')\n",
      "('type(r)': 'BENEFICIALOWNEROF', 'r.kind': 'ownership-of-shares-75-to-100-percent')\n",
      "('type(r)': 'BENEFICIALOWNEROF', 'r.kind': 'voting-rights-75-to-100-percent')\n",
      "('type(r)': 'BENEFICIALOWNEROF', 'r.kind': 'right-to-appoint-and-remove-directors')\n",
      "('type(r)': 'BENEFICIALOWNEROF', 'r.kind': 'right-to-appoint-and-remove-directors-as-trust')\n",
      "('type(r)': 'BENEFICIALOWNEROF', 'r.kind': 'voting-rights-50-to-75-percent')\n",
      "('type(r)': 'BENEFICIALOWNEROF', 'r.kind': 'voting-rights-75-to-100-percent-as-firm')\n",
      "('type(r)': 'BENEFICIALOWNEROF', 'r.kind': 'ownership-of-shares-75-to-100-percent-as-firm')\n"
     ]
    }
   ],
   "source": [
    "q='''\n",
    "MATCH ()-[r]-()\n",
    "RETURN DISTINCT type(r), r.kind\n",
    "'''\n",
    "for a in graph.run(q):\n",
    "    print(a)"
   ]
  },
  {
   "cell_type": "markdown",
   "metadata": {},
   "source": [
    "### Loading in Company Information\n",
    "\n",
    "We can also load in CSV data about companies from simple CSV files. Again, we need to model the data appropriately, perhaps as:\n",
    "- company record;\n",
    "- company_address record.\n",
    "\n",
    "Should company and person addresses be the same sort of record? Should they be linked by some relationship?"
   ]
  },
  {
   "cell_type": "code",
   "execution_count": 64,
   "metadata": {
    "collapsed": false
   },
   "outputs": [
    {
     "name": "stdout",
     "output_type": "stream",
     "text": [
      "CompanyName, CompanyNumber,RegAddress.CareOf,RegAddress.POBox,RegAddress.AddressLine1, RegAddress.AddressLine2,RegAddress.PostTown,RegAddress.County,RegAddress.Country,RegAddress.PostCode,CompanyCategory,CompanyStatus,CountryOfOrigin,DissolutionDate,IncorporationDate,Accounts.AccountRefDay,Accounts.AccountRefMonth,Accounts.NextDueDate,Accounts.LastMadeUpDate,Accounts.AccountCategory,Returns.NextDueDate,Returns.LastMadeUpDate,Mortgages.NumMortCharges,Mortgages.NumMortOutstanding,Mortgages.NumMortPartSatisfied,Mortgages.NumMortSatisfied,SICCode.SicText_1,SICCode.SicText_2,SICCode.SicText_3,SICCode.SicText_4,LimitedPartnerships.NumGenPartners,LimitedPartnerships.NumLimPartners,URI,PreviousName_1.CONDATE, PreviousName_1.CompanyName, PreviousName_2.CONDATE, PreviousName_2.CompanyName,PreviousName_3.CONDATE, PreviousName_3.CompanyName,PreviousName_4.CONDATE, PreviousName_4.CompanyName,PreviousName_5.CONDATE, PreviousName_5.CompanyName,PreviousName_6.CONDATE, PreviousName_6.CompanyName,PreviousName_7.CONDATE, PreviousName_7.CompanyName,PreviousName_8.CONDATE, PreviousName_8.CompanyName,PreviousName_9.CONDATE, PreviousName_9.CompanyName,PreviousName_10.CONDATE, PreviousName_10.CompanyName\r\n",
      "\"! LTD\",\"08209948\",\"\",\"\",\"METROHOUSE 57 PEPPER ROAD\",\"HUNSLET\",\"LEEDS\",\"YORKSHIRE\",\"\",\"LS10 2RU\",\"Private Limited Company\",\"Active\",\"United Kingdom\",\"\",\"11/09/2012\",\"30\",\"9\",\"30/06/2017\",\"30/09/2015\",\"DORMANT\",\"09/10/2016\",\"11/09/2015\",\"0\",\"0\",\"0\",\"0\",\"99999 - Dormant Company\",\"\",\"\",\"\",\"0\",\"0\",\"http://business.data.gov.uk/id/company/08209948\",\"\",\"\",\"\",\"\",\"\",\"\",\"\",\"\",\"\",\"\",\"\",\"\",\"\",\"\",\"\",\"\",\"\",\"\",\"\",\"\"\r\n",
      "\"!BIG IMPACT GRAPHICS LIMITED\",\"07382019\",\"\",\"\",\"335 ROSDEN HOUSE\",\"372 OLD STREET\",\"LONDON\",\"\",\"\",\"EC1V 9AV\",\"Private Limited Company\",\"Active\",\"United Kingdom\",\"\",\"21/09/2010\",\"30\",\"9\",\"30/06/2017\",\"30/09/2015\",\"DORMANT\",\"19/10/2016\",\"21/09/2015\",\"0\",\"0\",\"0\",\"0\",\"59112 - Video production activities\",\"59113 - Television programme production activities\",\"74100 - specialised design activities\",\"74202 - Other specialist photography\",\"0\",\"0\",\"http://business.data.gov.uk/id/company/07382019\",\"\",\"\",\"\",\"\",\"\",\"\",\"\",\"\",\"\",\"\",\"\",\"\",\"\",\"\",\"\",\"\",\"\",\"\",\"\",\"\"\r\n",
      "\"!NFERNO LTD.\",\"04753368\",\"\",\"\",\"FIRST FLOOR THAVIES INN HOUSE 3-4\",\"HOLBORN CIRCUS\",\"LONDON\",\"\",\"\",\"EC1N 2HA\",\"Private Limited Company\",\"Active\",\"United Kingdom\",\"\",\"03/05/2003\",\"30\",\"4\",\"31/01/2017\",\"31/10/2014\",\"TOTAL EXEMPTION FULL\",\"31/05/2017\",\"03/05/2016\",\"0\",\"0\",\"0\",\"0\",\"82990 - Other business support service activities n.e.c.\",\"\",\"\",\"\",\"0\",\"0\",\"http://business.data.gov.uk/id/company/04753368\",\"27/01/2009\",\"DISTINCTIVE IMPRINT WORLDWIDE LIMITED\",\"02/09/2003\",\"DISTINCTIVE IMPRINT CONSULTANTS LIMITED\",\"03/07/2003\",\"AMEROOLA CONSULTANTS LIMITED\",\"\",\"\",\"\",\"\",\"\",\"\",\"\",\"\",\"\",\"\",\"\",\"\",\"\",\"\"\r\n",
      "\"!NSPIRED LTD\",\"SC421617\",\"\",\"\",\"12 BON ACCORD SQUARE\",\"\",\"ABERDEEN\",\"\",\"\",\"AB11 6DJ\",\"Private Limited Company\",\"Active\",\"United Kingdom\",\"\",\"11/04/2012\",\"31\",\"3\",\"31/12/2016\",\"31/03/2015\",\"\",\"09/05/2017\",\"11/04/2016\",\"0\",\"0\",\"0\",\"0\",\"70229 - Management consultancy activities other than financial management\",\"\",\"\",\"\",\"0\",\"0\",\"http://business.data.gov.uk/id/company/SC421617\",\"\",\"\",\"\",\"\",\"\",\"\",\"\",\"\",\"\",\"\",\"\",\"\",\"\",\"\",\"\",\"\",\"\",\"\",\"\",\"\"\r\n"
     ]
    }
   ],
   "source": [
    "!head -n 100 BasicCompanyData-2016-10-01-part1_5.csv > snapshotcompanydata.csv\n",
    "!head -n 5 snapshotcompanydata.csv"
   ]
  },
  {
   "cell_type": "code",
   "execution_count": 103,
   "metadata": {
    "collapsed": false
   },
   "outputs": [],
   "source": [
    "import csv\n",
    "#Ideally, we create a company:Company node with a company either here \n",
    "#and then link to it from the beneficial ownership data?\n",
    "with open('snapshotcompanydata.csv','r') as csvfile:\n",
    "    #need to clean the column names by stripping whitespace\n",
    "    reader = csv.DictReader(csvfile,skipinitialspace=True)\n",
    "    for row in reader:\n",
    "        query=\"\"\"\n",
    "        WITH {row} AS row\n",
    "        MERGE (company:Company {companynumber: row.CompanyNumber}) ON CREATE\n",
    "  SET company.name = row.CompanyName\n",
    "  \n",
    "        MERGE (address:Address {postcode : row[\"RegAddress.PostCode\"]}) ON CREATE \n",
    "        SET address.line1=row['RegAddress.AddressLine1'], address.line2=row['RegAddress.AddressLine2'],\n",
    "        address.posttown=row['RegAddress.PostTown'],\n",
    "        address.county=row['RegAddress.County'],address.country=row['RegAddress.Country']\n",
    "        MERGE (company)-[:LOCATION]->(address)\n",
    "        \n",
    "        MERGE (companyactivity:SICCode {siccode:row['SICCode.SicText_1']})\n",
    "        MERGE (company)-[:ACTIVITY]->(companyactivity)\n",
    "        \"\"\"\n",
    "        graph.run(query,row=row)\n",
    "\n",
    "#For each SICCode field, need to:\n",
    "# - check that that SICCode node exists;\n",
    "# - if it doesn't create it\n",
    "# - connect company to it, ?perhaps with a weight corresponding to SICCode 1, 2 etc?\n"
   ]
  },
  {
   "cell_type": "code",
   "execution_count": 105,
   "metadata": {
    "collapsed": false
   },
   "outputs": [
    {
     "name": "stdout",
     "output_type": "stream",
     "text": [
      "('n': (b61fc10:Company {companynumber:\"08209948\",name:\"! LTD\",postcode:\"LS10 2RU\"}), 'm': (e123478:Address {country:\"\",county:\"YORKSHIRE\",line1:\"METROHOUSE 57 PEPPER ROAD\",line2:\"HUNSLET\",postcode:\"LS10 2RU\",posttown:\"LEEDS\"}))\n",
      "('n': (f10f56f:Company {companynumber:\"07382019\",name:\"!BIG IMPACT GRAPHICS LIMITED\",postcode:\"EC1V 9AV\"}), 'm': (f1355ca:Address {country:\"\",county:\"\",line1:\"335 ROSDEN HOUSE\",line2:\"372 OLD STREET\",postcode:\"EC1V 9AV\",posttown:\"LONDON\"}))\n",
      "('n': (e354a0a:Company {companynumber:\"04753368\",name:\"!NFERNO LTD.\",postcode:\"EC1N 2HA\"}), 'm': (a690d02:Address {country:\"\",county:\"\",line1:\"FIRST FLOOR THAVIES INN HOUSE 3-4\",line2:\"HOLBORN CIRCUS\",postcode:\"EC1N 2HA\",posttown:\"LONDON\"}))\n",
      "('n': (c24e58c:Company {companynumber:\"SC421617\",name:\"!NSPIRED LTD\",postcode:\"AB11 6DJ\"}), 'm': (b16f17f:Address {country:\"\",county:\"\",line1:\"12 BON ACCORD SQUARE\",line2:\"\",postcode:\"AB11 6DJ\",posttown:\"ABERDEEN\"}))\n",
      "('n': (d7d9cd2:Company {companynumber:\"09152972\",name:\"!NVERTD DESIGNS LIMITED\",postcode:\"MK45 5AT\"}), 'm': (e37da37:Address {country:\"\",county:\"\",line1:\"32 RECTORY ROAD\",line2:\"\",postcode:\"MK45 5AT\",posttown:\"STEPPINGLEY\"}))\n"
     ]
    }
   ],
   "source": [
    "q='''\n",
    "MATCH (n)-[:LOCATION]-(m)\n",
    "RETURN n,m LIMIT 5\n",
    "'''\n",
    "for a in graph.run(q):\n",
    "    print(a)"
   ]
  },
  {
   "cell_type": "code",
   "execution_count": null,
   "metadata": {
    "collapsed": true
   },
   "outputs": [],
   "source": []
  }
 ],
 "metadata": {
  "kernelspec": {
   "display_name": "Python 3",
   "language": "python",
   "name": "python3"
  },
  "language_info": {
   "codemirror_mode": {
    "name": "ipython",
    "version": 3
   },
   "file_extension": ".py",
   "mimetype": "text/x-python",
   "name": "python",
   "nbconvert_exporter": "python",
   "pygments_lexer": "ipython3",
   "version": "3.5.2"
  }
 },
 "nbformat": 4,
 "nbformat_minor": 1
}
