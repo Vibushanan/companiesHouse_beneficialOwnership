{
 "cells": [
  {
   "cell_type": "markdown",
   "metadata": {},
   "source": [
    "# Datagrabbing Notebook"
   ]
  },
  {
   "cell_type": "code",
   "execution_count": null,
   "metadata": {
    "collapsed": true
   },
   "outputs": [],
   "source": [
    "#Bulk files:\n",
    "#http://download.companieshouse.gov.uk/en_pscdata.html\n",
    "#wget http://download.companieshouse.gov.uk/persons-with-significant-control-snapshot-2016-10-25.zip\n",
    "#unzip http://download.companieshouse.gov.uk/persons-with-significant-control-snapshot-2016-10-25.zip"
   ]
  },
  {
   "cell_type": "code",
   "execution_count": 1,
   "metadata": {
    "collapsed": false
   },
   "outputs": [
    {
     "name": "stdout",
     "output_type": "stream",
     "text": [
      "Companies House - Significant Control Snapshot - Loader.ipynb\r\n",
      "docker-compose.yml\r\n",
      "persons-with-significant-control-snapshot-2016-10-25.txt\r\n",
      "persons-with-significant-control-snapshot-2016-10-25.zip\r\n",
      "README.md\r\n"
     ]
    }
   ],
   "source": [
    "!ls"
   ]
  },
  {
   "cell_type": "code",
   "execution_count": 2,
   "metadata": {
    "collapsed": false
   },
   "outputs": [
    {
     "name": "stdout",
     "output_type": "stream",
     "text": [
      "{\"company_number\":\"09145694\",\"data\":{\"address\":{\"address_line_1\":\"Reading Road\",\"locality\":\"Henley-On-Thames\",\"postal_code\":\"RG9 1DP\",\"premises\":\"161\",\"region\":\"Oxfordshire\"},\"country_of_residence\":\"England\",\"date_of_birth\":{\"month\":2,\"year\":1977},\"etag\":\"26281d9bedb2d102359f6afc3cb8cf62bb4a7f01\",\"kind\":\"individual-person-with-significant-control\",\"links\":{\"self\":\"/company/09145694/persons-with-significant-control/individual/bIhuKnMFctSnjrDjUG8n3NgOrlU\"},\"name\":\"Mrs Nga Thanh Wildman\",\"name_elements\":{\"forename\":\"Nga\",\"middle_name\":\"Thanh\",\"surname\":\"Wildman\",\"title\":\"Mrs\"},\"nationality\":\"Vietnamese\",\"natures_of_control\":[\"ownership-of-shares-50-to-75-percent\"],\"notified_on\":\"2016-04-06\"}}\r\n"
     ]
    }
   ],
   "source": [
    "#Preview the data\n",
    "!head -n 1 persons-with-significant-control-snapshot-2016-10-25.txt"
   ]
  },
  {
   "cell_type": "code",
   "execution_count": 3,
   "metadata": {
    "collapsed": false
   },
   "outputs": [
    {
     "name": "stdout",
     "output_type": "stream",
     "text": [
      "1270822 persons-with-significant-control-snapshot-2016-10-25.txt\r\n"
     ]
    }
   ],
   "source": [
    "#How many records?\n",
    "!wc -l persons-with-significant-control-snapshot-2016-10-25.txt"
   ]
  },
  {
   "cell_type": "markdown",
   "metadata": {},
   "source": [
    "So we have JSON data - Postgresql does support json now, but let's use mongo..."
   ]
  },
  {
   "cell_type": "code",
   "execution_count": 4,
   "metadata": {
    "collapsed": false
   },
   "outputs": [
    {
     "name": "stdout",
     "output_type": "stream",
     "text": [
      "Collecting pymongo\n",
      "  Downloading pymongo-3.3.0-cp35-cp35m-manylinux1_x86_64.whl (337kB)\n",
      "\u001b[K    100% |████████████████████████████████| 337kB 2.2MB/s \n",
      "\u001b[?25hInstalling collected packages: pymongo\n",
      "Successfully installed pymongo-3.3.0\n"
     ]
    }
   ],
   "source": [
    "!pip3 install pymongo"
   ]
  },
  {
   "cell_type": "code",
   "execution_count": 1,
   "metadata": {
    "collapsed": false
   },
   "outputs": [],
   "source": [
    "import pymongo"
   ]
  },
  {
   "cell_type": "code",
   "execution_count": 2,
   "metadata": {
    "collapsed": false
   },
   "outputs": [
    {
     "data": {
      "text/plain": [
       "['ch', 'local']"
      ]
     },
     "execution_count": 2,
     "metadata": {},
     "output_type": "execute_result"
    }
   ],
   "source": [
    "from pymongo import MongoClient\n",
    "c=MongoClient('mongodb',27017)\n",
    "c.database_names()"
   ]
  },
  {
   "cell_type": "code",
   "execution_count": 3,
   "metadata": {
    "collapsed": true
   },
   "outputs": [],
   "source": [
    "#Create a db\n",
    "db=c.ch"
   ]
  },
  {
   "cell_type": "code",
   "execution_count": 8,
   "metadata": {
    "collapsed": false
   },
   "outputs": [],
   "source": [
    "#Import the data - may take a bit of time...\n",
    "import json\n",
    "from itertools import islice\n",
    "\n",
    "import codecs\n",
    "loadsize=500\n",
    "data=[]\n",
    "db.sigcon.drop()\n",
    "with codecs.open('persons-with-significant-control-snapshot-2016-10-25.txt', 'r', 'utf-8-sig') as f:\n",
    "    for line in f:\n",
    "        data.append(json.loads(line))\n",
    "        #DO bulk intserts\n",
    "        if len(data)>loadsize:\n",
    "            db.sigcon.insert_many(data)\n",
    "            data=[]\n",
    "    if len(data)>0:db.sigcon.insert_many(data)"
   ]
  },
  {
   "cell_type": "code",
   "execution_count": 4,
   "metadata": {
    "collapsed": false
   },
   "outputs": [
    {
     "data": {
      "text/plain": [
       "{'_id': ObjectId('580f756a28e8d3000a5061fb'),\n",
       " 'company_number': '09145694',\n",
       " 'data': {'address': {'address_line_1': 'Reading Road',\n",
       "   'locality': 'Henley-On-Thames',\n",
       "   'postal_code': 'RG9 1DP',\n",
       "   'premises': '161',\n",
       "   'region': 'Oxfordshire'},\n",
       "  'country_of_residence': 'England',\n",
       "  'date_of_birth': {'month': 2, 'year': 1977},\n",
       "  'etag': '26281d9bedb2d102359f6afc3cb8cf62bb4a7f01',\n",
       "  'kind': 'individual-person-with-significant-control',\n",
       "  'links': {'self': '/company/09145694/persons-with-significant-control/individual/bIhuKnMFctSnjrDjUG8n3NgOrlU'},\n",
       "  'name': 'Mrs Nga Thanh Wildman',\n",
       "  'name_elements': {'forename': 'Nga',\n",
       "   'middle_name': 'Thanh',\n",
       "   'surname': 'Wildman',\n",
       "   'title': 'Mrs'},\n",
       "  'nationality': 'Vietnamese',\n",
       "  'natures_of_control': ['ownership-of-shares-50-to-75-percent'],\n",
       "  'notified_on': '2016-04-06'}}"
      ]
     },
     "execution_count": 4,
     "metadata": {},
     "output_type": "execute_result"
    }
   ],
   "source": [
    "#Check we can query them\n",
    "db.sigcon.find_one()"
   ]
  },
  {
   "cell_type": "code",
   "execution_count": null,
   "metadata": {
    "collapsed": true
   },
   "outputs": [],
   "source": []
  },
  {
   "cell_type": "code",
   "execution_count": null,
   "metadata": {
    "collapsed": true
   },
   "outputs": [],
   "source": []
  }
 ],
 "metadata": {
  "kernelspec": {
   "display_name": "Python 3",
   "language": "python",
   "name": "python3"
  },
  "language_info": {
   "codemirror_mode": {
    "name": "ipython",
    "version": 3
   },
   "file_extension": ".py",
   "mimetype": "text/x-python",
   "name": "python",
   "nbconvert_exporter": "python",
   "pygments_lexer": "ipython3",
   "version": "3.5.2"
  }
 },
 "nbformat": 4,
 "nbformat_minor": 1
}
